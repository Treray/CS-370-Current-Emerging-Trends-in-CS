{
 "cells": [
  {
   "cell_type": "code",
   "execution_count": 4,
   "metadata": {},
   "outputs": [
    {
     "ename": "SyntaxError",
     "evalue": "invalid syntax (<ipython-input-4-d3010dc2e625>, line 4)",
     "output_type": "error",
     "traceback": [
      "\u001b[1;36m  File \u001b[1;32m\"<ipython-input-4-d3010dc2e625>\"\u001b[1;36m, line \u001b[1;32m4\u001b[0m\n\u001b[1;33m    The theme of this project is a popular treasure hunt game in which the player needs to find the treasure before the pirate does. While you will not be developing the entire game, you will write the part of the game that represents the intelligent agent, which is a pirate in this case. The pirate will try to find the optimal path to the treasure using deep Q-learning.\u001b[0m\n\u001b[1;37m            ^\u001b[0m\n\u001b[1;31mSyntaxError\u001b[0m\u001b[1;31m:\u001b[0m invalid syntax\n"
     ]
    }
   ],
   "source": [
    "# Treasure Hunt Game Notebook\n",
    "\n",
    "## Read and Review Your Starter Code\n",
    "The theme of this project is a popular treasure hunt game in which the player needs to find the treasure before the pirate does. While you will not be developing the entire game, you will write the part of the game that represents the intelligent agent, which is a pirate in this case. The pirate will try to find the optimal path to the treasure using deep Q-learning. \n",
    "\n",
    "You have been provided with two Python classes and this notebook to help you with this assignment. The first class, TreasureMaze.py, represents the environment, which includes a maze object defined as a matrix. The second class, GameExperience.py, stores the episodes – that is, all the states that come in between the initial state and the terminal state. This is later used by the agent for learning by experience, called \"exploration\". This notebook shows how to play a game. Your task is to complete the deep Q-learning implementation for which a skeleton implementation has been provided. The code blocks you will need to complete has #TODO as a header.\n",
    "\n",
    "First, read and review the next few code and instruction blocks to understand the code that you have been given."
   ]
  },
  {
   "cell_type": "code",
   "execution_count": 7,
   "metadata": {},
   "outputs": [],
   "source": [
    "from __future__ import print_function\n",
    "import os, sys, time, datetime, json, random\n",
    "import numpy as np\n",
    "from keras.models import Sequential\n",
    "from keras.layers.core import Dense, Activation\n",
    "from keras.optimizers import SGD , Adam, RMSprop\n",
    "from keras.layers.advanced_activations import PReLU\n",
    "import matplotlib.pyplot as plt\n",
    "from TreasureMaze import TreasureMaze\n",
    "from GameExperience import GameExperience\n",
    "%matplotlib inline"
   ]
  },
  {
   "cell_type": "markdown",
   "metadata": {},
   "source": [
    "The following code block contains an 8x8 matrix that will be used as a maze object:"
   ]
  },
  {
   "cell_type": "code",
   "execution_count": 9,
   "metadata": {},
   "outputs": [],
   "source": [
    "maze = np.array([\n",
    "    [ 1.,  0.,  1.,  1.,  1.,  1.,  1.,  1.],\n",
    "    [ 1.,  0.,  1.,  1.,  1.,  0.,  1.,  1.],\n",
    "    [ 1.,  1.,  1.,  1.,  0.,  1.,  0.,  1.],\n",
    "    [ 1.,  1.,  1.,  0.,  1.,  1.,  1.,  1.],\n",
    "    [ 1.,  1.,  0.,  1.,  1.,  1.,  1.,  1.],\n",
    "    [ 1.,  1.,  1.,  0.,  1.,  0.,  0.,  0.],\n",
    "    [ 1.,  1.,  1.,  0.,  1.,  1.,  1.,  1.],\n",
    "    [ 1.,  1.,  1.,  1.,  0.,  1.,  1.,  1.]\n",
    "])"
   ]
  },
  {
   "cell_type": "markdown",
   "metadata": {},
   "source": [
    "This helper function allows a visual representation of the maze object:"
   ]
  },
  {
   "cell_type": "code",
   "execution_count": 10,
   "metadata": {},
   "outputs": [],
   "source": [
    "def show(qmaze):\n",
    "    try:\n",
    "        plt.grid('on')  # Enable grid lines on the plot\n",
    "        nrows, ncols = qmaze.maze.shape  # Get the number of rows and columns in the maze\n",
    "        ax = plt.gca()  # Get the current axis of the plot\n",
    "        ax.set_xticks(np.arange(0.5, nrows, 1))  # Set x-tick positions\n",
    "        ax.set_yticks(np.arange(0.5, ncols, 1))  # Set y-tick positions\n",
    "        ax.set_xticklabels([])  # Remove x-tick labels\n",
    "        ax.set_yticklabels([])  # Remove y-tick labels\n",
    "\n",
    "        canvas = np.copy(qmaze.maze)  # Create a copy of the maze to use for plotting\n",
    "        for row, col in qmaze.visited:\n",
    "            canvas[row, col] = 0.6  # Mark visited cells with a value of 0.6 (gray color)\n",
    "\n",
    "        pirate_row, pirate_col, _ = qmaze.state  # Get the current position of the pirate (agent)\n",
    "        canvas[pirate_row, pirate_col] = 0.3  # Mark the pirate cell with a value of 0.3 (darker gray)\n",
    "\n",
    "        canvas[nrows-1, ncols-1] = 0.9  # Mark the treasure cell with a value of 0.9 (white)\n",
    "\n",
    "        img = plt.imshow(canvas, interpolation='none', cmap='gray')  # Display the maze using a gray color map\n",
    "        return img  # Return the image object\n",
    "\n",
    "    except AttributeError as e:\n",
    "        print(f\"Attribute error: {e}. Make sure that qmaze has the required attributes 'maze', 'visited', and 'state'.\")\n",
    "    except TypeError as e:\n",
    "        print(f\"Type error: {e}. Ensure that the maze and its properties are properly defined and initialized.\")\n",
    "    except Exception as e:\n",
    "        print(f\"An unexpected error occurred: {e}.\")\n"
   ]
  },
  {
   "cell_type": "markdown",
   "metadata": {},
   "source": [
    "The pirate agent can move in four directions: left, right, up, and down. \n",
    "\n",
    "While the agent primarily learns by experience through exploitation, often, the agent can choose to explore the environment to find previously undiscovered paths. This is called \"exploration\" and is defined by epsilon. This value is typically a lower value such as 0.1, which means for every ten attempts, the agent will attempt to learn by experience nine times and will randomly explore a new path one time. You are encouraged to try various values for the exploration factor and see how the algorithm performs."
   ]
  },
  {
   "cell_type": "code",
   "execution_count": 11,
   "metadata": {},
   "outputs": [],
   "source": [
    "# Define constants for action directions\n",
    "LEFT = 0\n",
    "UP = 1\n",
    "RIGHT = 2\n",
    "DOWN = 3\n",
    "\n",
    "# Exploration factor for epsilon-greedy strategy\n",
    "epsilon = 0.1\n",
    "\n",
    "# Dictionary to map actions to their corresponding directions\n",
    "actions_dict = {\n",
    "    LEFT: 'left',\n",
    "    UP: 'up',\n",
    "    RIGHT: 'right',\n",
    "    DOWN: 'down',\n",
    "}\n",
    "\n",
    "# Number of possible actions\n",
    "num_actions = len(actions_dict)\n",
    "\n",
    "try:\n",
    "    # Verify that actions_dict contains all required actions\n",
    "    for action in [LEFT, UP, RIGHT, DOWN]:\n",
    "        if action not in actions_dict:\n",
    "            raise ValueError(f\"Action {action} is missing from actions_dict\")\n",
    "\n",
    "    # Check if epsilon is within a valid range\n",
    "    if not (0 <= epsilon <= 1):\n",
    "        raise ValueError(\"Exploration factor epsilon must be between 0 and 1\")\n",
    "\n",
    "    # Check if num_actions is correct\n",
    "    if num_actions != 4:\n",
    "        raise ValueError(f\"Number of actions should be 4, but got {num_actions}\")\n",
    "\n",
    "except ValueError as e:\n",
    "    print(f\"Value error: {e}\")\n",
    "\n",
    "except Exception as e:\n",
    "    print(f\"An unexpected error occurred: {e}\")\n"
   ]
  },
  {
   "cell_type": "markdown",
   "metadata": {},
   "source": [
    "The sample code block and output below show creating a maze object and performing one action (DOWN), which returns the reward. The resulting updated environment is visualized."
   ]
  },
  {
   "cell_type": "code",
   "execution_count": 12,
   "metadata": {},
   "outputs": [
    {
     "name": "stdout",
     "output_type": "stream",
     "text": [
      "reward= -0.04\n"
     ]
    },
    {
     "data": {
      "text/plain": [
       "<matplotlib.image.AxesImage at 0x1f5cf9475c8>"
      ]
     },
     "execution_count": 12,
     "metadata": {},
     "output_type": "execute_result"
    },
    {
     "data": {
      "image/png": "[encoded data removed]",
      "text/plain": [
       "<Figure size 432x288 with 1 Axes>"
      ]
     },
     "metadata": {
      "needs_background": "light"
     },
     "output_type": "display_data"
    }
   ],
   "source": [
    "# Initialize the maze environment with the given maze configuration\n",
    "qmaze = TreasureMaze(maze)\n",
    "\n",
    "# Perform an action (move DOWN) in the maze environment\n",
    "# This returns the updated canvas (maze state), reward, and game_over status\n",
    "canvas, reward, game_over = qmaze.act(DOWN)\n",
    "\n",
    "# Print the reward obtained from the action\n",
    "print(\"reward=\", reward)\n",
    "\n",
    "# Display the current state of the maze environment\n",
    "show(qmaze)\n"
   ]
  },
  {
   "cell_type": "markdown",
   "metadata": {},
   "source": [
    "This function simulates a full game based on the provided trained model. The other parameters include the TreasureMaze object and the starting position of the pirate."
   ]
  },
  {
   "cell_type": "code",
   "execution_count": 13,
   "metadata": {},
   "outputs": [],
   "source": [
    "def play_game(model, qmaze, pirate_cell):\n",
    "    try:\n",
    "        # Reset the maze environment with the pirate starting at the specified cell\n",
    "        qmaze.reset(pirate_cell)\n",
    "        \n",
    "        # Observe the initial state of the environment\n",
    "        envstate = qmaze.observe()\n",
    "        \n",
    "        while True:\n",
    "            prev_envstate = envstate  # Store the previous state\n",
    "            \n",
    "            # Get the next action based on the current state\n",
    "            q = model.predict(prev_envstate)\n",
    "            action = np.argmax(q[0])  # Select the action with the highest Q-value\n",
    "            \n",
    "            # Apply the selected action, and get the new state, reward, and game status\n",
    "            envstate, reward, game_status = qmaze.act(action)\n",
    "            \n",
    "            # Check if the game is won\n",
    "            if game_status == 'win':\n",
    "                return True\n",
    "            \n",
    "            # Check if the game is lost\n",
    "            elif game_status == 'lose':\n",
    "                return False\n",
    "\n",
    "    except AttributeError as e:\n",
    "        print(f\"Attribute error: {e}. Ensure that qmaze and model have the required attributes and methods.\")\n",
    "    except TypeError as e:\n",
    "        print(f\"Type error: {e}. Ensure that the inputs are of the correct type and properly initialized.\")\n",
    "    except Exception as e:\n",
    "        print(f\"An unexpected error occurred: {e}\")\n"
   ]
  },
  {
   "cell_type": "markdown",
   "metadata": {},
   "source": [
    "This function helps you to determine whether the pirate can win any game at all. If your maze is not well designed, the pirate may not win any game at all. In this case, your training would not yield any result. The provided maze in this notebook ensures that there is a path to win and you can run this method to check."
   ]
  },
  {
   "cell_type": "code",
   "execution_count": 14,
   "metadata": {},
   "outputs": [],
   "source": [
    "def completion_check(model, qmaze):\n",
    "    try:\n",
    "        # Iterate through each cell in the list of free cells in the maze\n",
    "        for cell in qmaze.free_cells:\n",
    "            # Check if there are valid actions available from the current cell\n",
    "            if not qmaze.valid_actions(cell):\n",
    "                return False  # Return False if no valid actions are available\n",
    "            \n",
    "            # Play the game starting from the current cell\n",
    "            # If the game cannot be won from this cell, return False\n",
    "            if not play_game(model, qmaze, cell):\n",
    "                return False\n",
    "        \n",
    "        # If all cells pass the checks, return True indicating completion\n",
    "        return True\n",
    "\n",
    "    except AttributeError as e:\n",
    "        print(f\"Attribute error: {e}. Ensure that qmaze has the 'free_cells' and 'valid_actions' attributes/methods.\")\n",
    "    except TypeError as e:\n",
    "        print(f\"Type error: {e}. Check that the input types for 'model' and 'qmaze' are correct and properly initialized.\")\n",
    "    except Exception as e:\n",
    "        print(f\"An unexpected error occurred: {e}\")\n"
   ]
  },
  {
   "cell_type": "markdown",
   "metadata": {},
   "source": [
    "The code you have been given in this block will build the neural network model. Review the code and note the number of layers, as well as the activation, optimizer, and loss functions that are used to train the model."
   ]
  },
  {
   "cell_type": "code",
   "execution_count": 15,
   "metadata": {},
   "outputs": [],
   "source": [
    "def build_model(maze):\n",
    "    model = Sequential()\n",
    "    model.add(Dense(maze.size, input_shape=(maze.size,)))\n",
    "    model.add(PReLU())\n",
    "    model.add(Dense(maze.size))\n",
    "    model.add(PReLU())\n",
    "    model.add(Dense(num_actions))\n",
    "    model.compile(optimizer='adam', loss='mse')\n",
    "    return model"
   ]
  },
  {
   "cell_type": "markdown",
   "metadata": {},
   "source": [
    "# #TODO: Complete the Q-Training Algorithm Code Block\n",
    "\n",
    "This is your deep Q-learning implementation. The goal of your deep Q-learning implementation is to find the best possible navigation sequence that results in reaching the treasure cell while maximizing the reward. In your implementation, you need to determine the optimal number of epochs to achieve a 100% win rate.\n",
    "\n",
    "You will need to complete the section starting with #pseudocode. The pseudocode has been included for you."
   ]
  },
  {
   "cell_type": "code",
   "execution_count": 16,
   "metadata": {},
   "outputs": [],
   "source": [
    "def qtrain(model, maze, **opt):\n",
    "    try:\n",
    "        global epsilon \n",
    "        \n",
    "        # Hyperparameters\n",
    "        n_epoch = opt.get('n_epoch', 15000)  # Number of epochs (full passes through the training dataset)\n",
    "        max_memory = opt.get('max_memory', 1000)  # Maximum size of the experience replay buffer\n",
    "        data_size = opt.get('data_size', 50)  # Number of experiences used for each training step\n",
    "        decay_rate = 0.1  # Rate at which exploration decays over time\n",
    "        \n",
    "        start_time = datetime.datetime.now()\n",
    "        qmaze = TreasureMaze(maze)  # Initialize the maze environment\n",
    "        experience = GameExperience(model, max_memory=max_memory)  # Initialize the experience replay buffer\n",
    "        \n",
    "        win_history = []  # List to keep track of wins over epochs\n",
    "        hsize = qmaze.maze.size // 2  # Window size for calculating win rate (half the size of the maze)\n",
    "        win_rate = 0.0  # Initial win rate\n",
    "        \n",
    "        for epoch in range(n_epoch):\n",
    "            try:\n",
    "                agent_cell = random.choice(qmaze.free_cells)  # Randomly select a starting position for the agent\n",
    "                qmaze.reset(agent_cell)  # Reset the maze environment with the agent at the starting position\n",
    "                envstate = qmaze.observe()  # Get the initial state of the environment\n",
    "                \n",
    "                n_episodes, loss = 0, 0.0  # Initialize episode counter and loss\n",
    "                game_over = False\n",
    "                \n",
    "                while not game_over:\n",
    "                    previous_envstate = envstate\n",
    "                    valid_actions = qmaze.valid_actions()  # Retrieve a list of valid actions from the current state\n",
    "                    \n",
    "                    if not valid_actions:\n",
    "                        break  # Exit the loop if there are no valid actions available\n",
    "                    \n",
    "                    # Decide between exploration (random action) and exploitation (best action)\n",
    "                    if 1 / (1 + epoch * decay_rate) < epsilon:\n",
    "                        action = np.argmax(experience.predict(previous_envstate))  # Choose action with highest Q-value (exploitation)\n",
    "                    else:\n",
    "                        action = random.choice(valid_actions)  # Choose a random action (exploration)\n",
    "                    \n",
    "                    envstate, reward, game_status = qmaze.act(action)  # Perform the chosen action and observe the new state and reward\n",
    "                    experience.remember([previous_envstate, action, reward, envstate, game_status])  # Store the experience in memory\n",
    "                    n_episodes += 1\n",
    "                    \n",
    "                    # Train the model using experiences from the replay buffer\n",
    "                    inputs, targets = experience.get_data(data_size)  # Retrieve a batch of training data\n",
    "                    model.fit(inputs, targets, epochs=4, batch_size=16, verbose=0)  # Train the model with the training data\n",
    "                    loss = model.evaluate(inputs, targets, verbose=0)  # Evaluate the model on the training data\n",
    "                    \n",
    "                    if game_status == 'win':\n",
    "                        win_history.append(1)  # Append a win (1) to the win history\n",
    "                        game_over = True  # End the episode\n",
    "                    elif game_status == 'lose':\n",
    "                        win_history.append(0)  # Append a loss (0) to the win history\n",
    "                        game_over = True  # End the episode\n",
    "                    \n",
    "                    # Calculate the win rate over the history window\n",
    "                    win_rate = sum(win_history[-hsize:]) / hsize if len(win_history) > 0 else 0\n",
    "                \n",
    "                # Print training progress\n",
    "                elapsed_time = format_time((datetime.datetime.now() - start_time).total_seconds())\n",
    "                print(f\"Epoch: {epoch:03d}/{n_epoch-1} | Loss: {loss:.4f} | Episodes: {n_episodes} | \"\n",
    "                      f\"Win count: {sum(win_history)} | Win rate: {win_rate:.3f} | Time: {elapsed_time}\")\n",
    "                \n",
    "                # Adjust the exploration rate and check if the training is complete\n",
    "                if win_rate > 0.9:\n",
    "                    epsilon = 0.05  # Reduce exploration rate to focus more on exploitation\n",
    "                if sum(win_history[-hsize:]) == hsize and completion_check(model, qmaze):\n",
    "                    print(f\"Reached 100% win rate at epoch: {epoch}\")\n",
    "                    break  # Exit training if a high win rate is consistently achieved\n",
    "            except Exception as e:\n",
    "                print(f\"Error during epoch {epoch}: {e}\")\n",
    "        \n",
    "        print(f\"Training completed in {format_time((datetime.datetime.now() - start_time).total_seconds())}\")\n",
    "        return elapsed_time\n",
    "    except Exception as e:\n",
    "        print(f\"Error in qtrain: {e}\")\n",
    "\n",
    "def format_time(seconds):\n",
    "    # Format the elapsed time based on its length\n",
    "    if seconds < 400:\n",
    "        return f\"{seconds:.1f} seconds\"  # Format time in seconds for short durations\n",
    "    elif seconds < 4000:\n",
    "        return f\"{seconds / 60.0:.2f} minutes\"  # Format time in minutes for moderate durations\n",
    "    else:\n",
    "        return f\"{seconds / 3600.0:.2f} hours\"  # Format time in hours for long durations"
   ]
  },
  {
   "cell_type": "markdown",
   "metadata": {},
   "source": [
    "## Test Your Model\n",
    "\n",
    "Now we will start testing the deep Q-learning implementation. To begin, select **Cell**, then **Run All** from the menu bar. This will run your notebook. As it runs, you should see output begin to appear beneath the next few cells. The code below creates an instance of TreasureMaze."
   ]
  },
  {
   "cell_type": "code",
   "execution_count": 17,
   "metadata": {},
   "outputs": [
    {
     "data": {
      "text/plain": [
       "<matplotlib.image.AxesImage at 0x1f5d10fa1c8>"
      ]
     },
     "execution_count": 17,
     "metadata": {},
     "output_type": "execute_result"
    },
    {
     "data": {
      "image/png": "[encoded data removed]",
      "text/plain": [
       "<Figure size 432x288 with 1 Axes>"
      ]
     },
     "metadata": {
      "needs_background": "light"
     },
     "output_type": "display_data"
    }
   ],
   "source": [
    "qmaze = TreasureMaze(maze)\n",
    "show(qmaze)"
   ]
  },
  {
   "cell_type": "markdown",
   "metadata": {},
   "source": [
    "In the next code block, you will build your model and train it using deep Q-learning. Note: This step takes several minutes to fully run."
   ]
  },
  {
   "cell_type": "code",
   "execution_count": 18,
   "metadata": {},
   "outputs": [
    {
     "name": "stdout",
     "output_type": "stream",
     "text": [
      "Epoch: 000/14999 | Loss: 0.0012 | Episodes: 152 | Win count: 0 | Win rate: 0.000 | Time: 26.1 seconds\n",
      "Epoch: 001/14999 | Loss: 0.0014 | Episodes: 148 | Win count: 0 | Win rate: 0.000 | Time: 46.1 seconds\n",
      "Epoch: 002/14999 | Loss: 0.0012 | Episodes: 148 | Win count: 1 | Win rate: 0.031 | Time: 75.5 seconds\n",
      "Epoch: 003/14999 | Loss: 0.0013 | Episodes: 145 | Win count: 1 | Win rate: 0.031 | Time: 105.2 seconds\n",
      "Epoch: 004/14999 | Loss: 0.0012 | Episodes: 150 | Win count: 1 | Win rate: 0.031 | Time: 134.4 seconds\n",
      "Epoch: 005/14999 | Loss: 0.0014 | Episodes: 149 | Win count: 1 | Win rate: 0.031 | Time: 165.3 seconds\n",
      "Epoch: 006/14999 | Loss: 0.0009 | Episodes: 73 | Win count: 2 | Win rate: 0.062 | Time: 180.8 seconds\n",
      "Epoch: 007/14999 | Loss: 0.0016 | Episodes: 153 | Win count: 2 | Win rate: 0.062 | Time: 210.9 seconds\n",
      "Epoch: 008/14999 | Loss: 0.0011 | Episodes: 63 | Win count: 3 | Win rate: 0.094 | Time: 222.0 seconds\n",
      "Epoch: 009/14999 | Loss: 0.0017 | Episodes: 139 | Win count: 3 | Win rate: 0.094 | Time: 250.6 seconds\n",
      "Epoch: 010/14999 | Loss: 0.0010 | Episodes: 141 | Win count: 4 | Win rate: 0.125 | Time: 279.0 seconds\n",
      "Epoch: 011/14999 | Loss: 0.0005 | Episodes: 145 | Win count: 4 | Win rate: 0.125 | Time: 309.3 seconds\n",
      "Epoch: 012/14999 | Loss: 0.0009 | Episodes: 10 | Win count: 5 | Win rate: 0.156 | Time: 311.3 seconds\n",
      "Epoch: 013/14999 | Loss: 0.0006 | Episodes: 135 | Win count: 6 | Win rate: 0.188 | Time: 339.7 seconds\n",
      "Epoch: 014/14999 | Loss: 0.0008 | Episodes: 13 | Win count: 7 | Win rate: 0.219 | Time: 342.6 seconds\n",
      "Epoch: 015/14999 | Loss: 0.0015 | Episodes: 142 | Win count: 7 | Win rate: 0.219 | Time: 371.8 seconds\n",
      "Epoch: 016/14999 | Loss: 0.0006 | Episodes: 148 | Win count: 7 | Win rate: 0.219 | Time: 6.69 minutes\n",
      "Epoch: 017/14999 | Loss: 0.0008 | Episodes: 150 | Win count: 7 | Win rate: 0.219 | Time: 7.21 minutes\n",
      "Epoch: 018/14999 | Loss: 0.0010 | Episodes: 43 | Win count: 8 | Win rate: 0.250 | Time: 7.36 minutes\n",
      "Epoch: 019/14999 | Loss: 0.0007 | Episodes: 43 | Win count: 9 | Win rate: 0.281 | Time: 7.51 minutes\n",
      "Epoch: 020/14999 | Loss: 0.0016 | Episodes: 149 | Win count: 9 | Win rate: 0.281 | Time: 8.06 minutes\n",
      "Epoch: 021/14999 | Loss: 0.0020 | Episodes: 157 | Win count: 9 | Win rate: 0.281 | Time: 8.56 minutes\n",
      "Epoch: 022/14999 | Loss: 0.0026 | Episodes: 143 | Win count: 9 | Win rate: 0.281 | Time: 9.01 minutes\n",
      "Epoch: 023/14999 | Loss: 0.0024 | Episodes: 75 | Win count: 10 | Win rate: 0.312 | Time: 9.26 minutes\n",
      "Epoch: 024/14999 | Loss: 0.0014 | Episodes: 95 | Win count: 11 | Win rate: 0.344 | Time: 9.57 minutes\n",
      "Epoch: 025/14999 | Loss: 0.0008 | Episodes: 140 | Win count: 11 | Win rate: 0.344 | Time: 10.01 minutes\n",
      "Epoch: 026/14999 | Loss: 0.0009 | Episodes: 161 | Win count: 11 | Win rate: 0.344 | Time: 10.60 minutes\n",
      "Epoch: 027/14999 | Loss: 0.0012 | Episodes: 139 | Win count: 11 | Win rate: 0.344 | Time: 11.07 minutes\n",
      "Epoch: 028/14999 | Loss: 0.0013 | Episodes: 17 | Win count: 12 | Win rate: 0.375 | Time: 11.13 minutes\n",
      "Epoch: 029/14999 | Loss: 0.0012 | Episodes: 146 | Win count: 12 | Win rate: 0.375 | Time: 11.57 minutes\n",
      "Epoch: 030/14999 | Loss: 0.0018 | Episodes: 63 | Win count: 13 | Win rate: 0.406 | Time: 11.76 minutes\n",
      "Epoch: 031/14999 | Loss: 0.0014 | Episodes: 141 | Win count: 13 | Win rate: 0.406 | Time: 12.24 minutes\n",
      "Epoch: 032/14999 | Loss: 0.0014 | Episodes: 117 | Win count: 14 | Win rate: 0.438 | Time: 12.58 minutes\n",
      "Epoch: 033/14999 | Loss: 0.0022 | Episodes: 150 | Win count: 14 | Win rate: 0.438 | Time: 13.05 minutes\n",
      "Epoch: 034/14999 | Loss: 0.0013 | Episodes: 156 | Win count: 14 | Win rate: 0.406 | Time: 13.53 minutes\n",
      "Epoch: 035/14999 | Loss: 0.0012 | Episodes: 159 | Win count: 14 | Win rate: 0.406 | Time: 13.96 minutes\n",
      "Epoch: 036/14999 | Loss: 0.0012 | Episodes: 130 | Win count: 15 | Win rate: 0.438 | Time: 14.38 minutes\n",
      "Epoch: 037/14999 | Loss: 0.0024 | Episodes: 144 | Win count: 15 | Win rate: 0.438 | Time: 14.84 minutes\n",
      "Epoch: 038/14999 | Loss: 0.0016 | Episodes: 154 | Win count: 15 | Win rate: 0.406 | Time: 15.35 minutes\n",
      "Epoch: 039/14999 | Loss: 0.0005 | Episodes: 148 | Win count: 15 | Win rate: 0.406 | Time: 15.83 minutes\n",
      "Epoch: 040/14999 | Loss: 0.0013 | Episodes: 149 | Win count: 16 | Win rate: 0.406 | Time: 16.31 minutes\n",
      "Epoch: 041/14999 | Loss: 0.0019 | Episodes: 150 | Win count: 16 | Win rate: 0.406 | Time: 16.74 minutes\n",
      "Epoch: 042/14999 | Loss: 0.0015 | Episodes: 148 | Win count: 16 | Win rate: 0.375 | Time: 17.05 minutes\n",
      "Epoch: 043/14999 | Loss: 0.0016 | Episodes: 157 | Win count: 16 | Win rate: 0.375 | Time: 17.42 minutes\n",
      "Epoch: 044/14999 | Loss: 0.0015 | Episodes: 160 | Win count: 16 | Win rate: 0.344 | Time: 17.91 minutes\n",
      "Epoch: 045/14999 | Loss: 0.0015 | Episodes: 148 | Win count: 16 | Win rate: 0.312 | Time: 18.38 minutes\n",
      "Epoch: 046/14999 | Loss: 0.0018 | Episodes: 145 | Win count: 16 | Win rate: 0.281 | Time: 18.82 minutes\n",
      "Epoch: 047/14999 | Loss: 0.0015 | Episodes: 110 | Win count: 17 | Win rate: 0.312 | Time: 19.15 minutes\n",
      "Epoch: 048/14999 | Loss: 0.0011 | Episodes: 55 | Win count: 18 | Win rate: 0.344 | Time: 19.32 minutes\n",
      "Epoch: 049/14999 | Loss: 0.0008 | Episodes: 155 | Win count: 18 | Win rate: 0.344 | Time: 19.82 minutes\n",
      "Epoch: 050/14999 | Loss: 0.0016 | Episodes: 139 | Win count: 18 | Win rate: 0.312 | Time: 20.27 minutes\n",
      "Epoch: 051/14999 | Loss: 0.0020 | Episodes: 154 | Win count: 18 | Win rate: 0.281 | Time: 20.78 minutes\n",
      "Epoch: 052/14999 | Loss: 0.0009 | Episodes: 148 | Win count: 18 | Win rate: 0.281 | Time: 21.28 minutes\n",
      "Epoch: 053/14999 | Loss: 0.0010 | Episodes: 159 | Win count: 18 | Win rate: 0.281 | Time: 21.78 minutes\n",
      "Epoch: 054/14999 | Loss: 0.0006 | Episodes: 149 | Win count: 18 | Win rate: 0.281 | Time: 22.26 minutes\n",
      "Epoch: 055/14999 | Loss: 0.0008 | Episodes: 150 | Win count: 18 | Win rate: 0.250 | Time: 22.73 minutes\n",
      "Epoch: 056/14999 | Loss: 0.0016 | Episodes: 49 | Win count: 19 | Win rate: 0.250 | Time: 22.90 minutes\n",
      "Epoch: 057/14999 | Loss: 0.0010 | Episodes: 154 | Win count: 19 | Win rate: 0.250 | Time: 23.41 minutes\n",
      "Epoch: 058/14999 | Loss: 0.0005 | Episodes: 129 | Win count: 20 | Win rate: 0.281 | Time: 23.82 minutes\n",
      "Epoch: 059/14999 | Loss: 0.0010 | Episodes: 158 | Win count: 20 | Win rate: 0.281 | Time: 24.31 minutes\n",
      "Epoch: 060/14999 | Loss: 0.0026 | Episodes: 147 | Win count: 20 | Win rate: 0.250 | Time: 24.75 minutes\n",
      "Epoch: 061/14999 | Loss: 0.0009 | Episodes: 157 | Win count: 20 | Win rate: 0.250 | Time: 25.26 minutes\n",
      "Epoch: 062/14999 | Loss: 0.0014 | Episodes: 150 | Win count: 20 | Win rate: 0.219 | Time: 25.72 minutes\n",
      "Epoch: 063/14999 | Loss: 0.0015 | Episodes: 152 | Win count: 20 | Win rate: 0.219 | Time: 26.21 minutes\n",
      "Epoch: 064/14999 | Loss: 0.0012 | Episodes: 160 | Win count: 20 | Win rate: 0.188 | Time: 26.71 minutes\n",
      "Epoch: 065/14999 | Loss: 0.0015 | Episodes: 21 | Win count: 21 | Win rate: 0.219 | Time: 26.77 minutes\n",
      "Epoch: 066/14999 | Loss: 0.0014 | Episodes: 150 | Win count: 21 | Win rate: 0.219 | Time: 27.24 minutes\n",
      "Epoch: 067/14999 | Loss: 0.0013 | Episodes: 149 | Win count: 21 | Win rate: 0.219 | Time: 27.67 minutes\n",
      "Epoch: 068/14999 | Loss: 0.0010 | Episodes: 153 | Win count: 21 | Win rate: 0.188 | Time: 28.14 minutes\n",
      "Epoch: 069/14999 | Loss: 0.0015 | Episodes: 85 | Win count: 22 | Win rate: 0.219 | Time: 28.39 minutes\n",
      "Epoch: 070/14999 | Loss: 0.0009 | Episodes: 20 | Win count: 23 | Win rate: 0.250 | Time: 28.44 minutes\n",
      "Epoch: 071/14999 | Loss: 0.0016 | Episodes: 142 | Win count: 23 | Win rate: 0.250 | Time: 28.84 minutes\n",
      "Epoch: 072/14999 | Loss: 0.0014 | Episodes: 143 | Win count: 23 | Win rate: 0.219 | Time: 29.27 minutes\n",
      "Epoch: 073/14999 | Loss: 0.0014 | Episodes: 158 | Win count: 23 | Win rate: 0.219 | Time: 29.72 minutes\n",
      "Epoch: 074/14999 | Loss: 0.0018 | Episodes: 150 | Win count: 23 | Win rate: 0.219 | Time: 30.17 minutes\n",
      "Epoch: 075/14999 | Loss: 0.0008 | Episodes: 152 | Win count: 23 | Win rate: 0.219 | Time: 30.65 minutes\n",
      "Epoch: 076/14999 | Loss: 0.0016 | Episodes: 155 | Win count: 23 | Win rate: 0.219 | Time: 31.14 minutes\n",
      "Epoch: 077/14999 | Loss: 0.0015 | Episodes: 124 | Win count: 24 | Win rate: 0.250 | Time: 31.52 minutes\n",
      "Epoch: 078/14999 | Loss: 0.0020 | Episodes: 148 | Win count: 24 | Win rate: 0.250 | Time: 31.95 minutes\n",
      "Epoch: 079/14999 | Loss: 0.0012 | Episodes: 52 | Win count: 25 | Win rate: 0.250 | Time: 32.10 minutes\n"
     ]
    },
    {
     "name": "stdout",
     "output_type": "stream",
     "text": [
      "Epoch: 080/14999 | Loss: 0.0012 | Episodes: 141 | Win count: 25 | Win rate: 0.219 | Time: 32.50 minutes\n",
      "Epoch: 081/14999 | Loss: 0.0012 | Episodes: 147 | Win count: 25 | Win rate: 0.219 | Time: 32.96 minutes\n",
      "Epoch: 082/14999 | Loss: 0.0005 | Episodes: 144 | Win count: 25 | Win rate: 0.219 | Time: 33.37 minutes\n",
      "Epoch: 083/14999 | Loss: 0.0009 | Episodes: 143 | Win count: 25 | Win rate: 0.219 | Time: 33.78 minutes\n",
      "Epoch: 084/14999 | Loss: 0.0008 | Episodes: 8 | Win count: 26 | Win rate: 0.250 | Time: 33.80 minutes\n",
      "Epoch: 085/14999 | Loss: 0.0009 | Episodes: 31 | Win count: 27 | Win rate: 0.281 | Time: 33.89 minutes\n",
      "Epoch: 086/14999 | Loss: 0.0015 | Episodes: 153 | Win count: 27 | Win rate: 0.281 | Time: 34.33 minutes\n",
      "Epoch: 087/14999 | Loss: 0.0013 | Episodes: 146 | Win count: 27 | Win rate: 0.281 | Time: 34.78 minutes\n",
      "Epoch: 088/14999 | Loss: 0.0016 | Episodes: 41 | Win count: 28 | Win rate: 0.281 | Time: 34.90 minutes\n",
      "Epoch: 089/14999 | Loss: 0.0012 | Episodes: 4 | Win count: 29 | Win rate: 0.312 | Time: 34.91 minutes\n",
      "Epoch: 090/14999 | Loss: 0.0006 | Episodes: 6 | Win count: 30 | Win rate: 0.312 | Time: 34.93 minutes\n",
      "Epoch: 091/14999 | Loss: 0.0005 | Episodes: 132 | Win count: 30 | Win rate: 0.312 | Time: 35.37 minutes\n",
      "Epoch: 092/14999 | Loss: 0.0011 | Episodes: 81 | Win count: 31 | Win rate: 0.344 | Time: 35.62 minutes\n",
      "Epoch: 093/14999 | Loss: 0.0008 | Episodes: 12 | Win count: 32 | Win rate: 0.375 | Time: 35.66 minutes\n",
      "Epoch: 094/14999 | Loss: 0.0009 | Episodes: 2 | Win count: 33 | Win rate: 0.406 | Time: 35.67 minutes\n",
      "Epoch: 095/14999 | Loss: 0.0003 | Episodes: 134 | Win count: 33 | Win rate: 0.406 | Time: 36.10 minutes\n",
      "Epoch: 096/14999 | Loss: 0.0002 | Episodes: 133 | Win count: 33 | Win rate: 0.406 | Time: 36.50 minutes\n",
      "Epoch: 097/14999 | Loss: 0.0002 | Episodes: 135 | Win count: 33 | Win rate: 0.375 | Time: 36.78 minutes\n",
      "Epoch: 098/14999 | Loss: 0.0004 | Episodes: 131 | Win count: 33 | Win rate: 0.375 | Time: 37.10 minutes\n",
      "Epoch: 099/14999 | Loss: 0.0003 | Episodes: 136 | Win count: 33 | Win rate: 0.375 | Time: 37.58 minutes\n",
      "Epoch: 100/14999 | Loss: 0.0000 | Episodes: 135 | Win count: 33 | Win rate: 0.375 | Time: 38.04 minutes\n",
      "Epoch: 101/14999 | Loss: 0.0003 | Episodes: 132 | Win count: 33 | Win rate: 0.344 | Time: 38.32 minutes\n",
      "Epoch: 102/14999 | Loss: 0.0000 | Episodes: 137 | Win count: 33 | Win rate: 0.312 | Time: 38.56 minutes\n",
      "Epoch: 103/14999 | Loss: 0.0000 | Episodes: 137 | Win count: 33 | Win rate: 0.312 | Time: 38.83 minutes\n",
      "Epoch: 104/14999 | Loss: 0.0004 | Episodes: 139 | Win count: 33 | Win rate: 0.312 | Time: 39.12 minutes\n",
      "Epoch: 105/14999 | Loss: 0.0008 | Episodes: 140 | Win count: 33 | Win rate: 0.312 | Time: 39.51 minutes\n",
      "Epoch: 106/14999 | Loss: 0.0012 | Episodes: 146 | Win count: 33 | Win rate: 0.312 | Time: 39.94 minutes\n",
      "Epoch: 107/14999 | Loss: 0.0009 | Episodes: 141 | Win count: 33 | Win rate: 0.312 | Time: 40.38 minutes\n",
      "Epoch: 108/14999 | Loss: 0.0011 | Episodes: 149 | Win count: 33 | Win rate: 0.312 | Time: 40.82 minutes\n",
      "Epoch: 109/14999 | Loss: 0.0005 | Episodes: 144 | Win count: 33 | Win rate: 0.281 | Time: 41.14 minutes\n",
      "Epoch: 110/14999 | Loss: 0.0007 | Episodes: 143 | Win count: 33 | Win rate: 0.281 | Time: 41.50 minutes\n",
      "Epoch: 111/14999 | Loss: 0.0006 | Episodes: 147 | Win count: 33 | Win rate: 0.250 | Time: 41.94 minutes\n",
      "Epoch: 112/14999 | Loss: 0.0005 | Episodes: 143 | Win count: 33 | Win rate: 0.250 | Time: 42.32 minutes\n",
      "Epoch: 113/14999 | Loss: 0.0003 | Episodes: 33 | Win count: 34 | Win rate: 0.281 | Time: 42.42 minutes\n",
      "Epoch: 114/14999 | Loss: 0.0016 | Episodes: 36 | Win count: 35 | Win rate: 0.312 | Time: 42.54 minutes\n",
      "Epoch: 115/14999 | Loss: 0.0109 | Episodes: 2 | Win count: 36 | Win rate: 0.344 | Time: 42.55 minutes\n",
      "Epoch: 116/14999 | Loss: 0.0003 | Episodes: 145 | Win count: 36 | Win rate: 0.312 | Time: 42.90 minutes\n",
      "Epoch: 117/14999 | Loss: 0.0005 | Episodes: 142 | Win count: 36 | Win rate: 0.281 | Time: 43.21 minutes\n",
      "Epoch: 118/14999 | Loss: 0.0007 | Episodes: 3 | Win count: 37 | Win rate: 0.312 | Time: 43.22 minutes\n",
      "Epoch: 119/14999 | Loss: 0.0006 | Episodes: 149 | Win count: 37 | Win rate: 0.312 | Time: 43.53 minutes\n",
      "Epoch: 120/14999 | Loss: 0.0006 | Episodes: 141 | Win count: 37 | Win rate: 0.281 | Time: 43.88 minutes\n",
      "Epoch: 121/14999 | Loss: 0.0007 | Episodes: 7 | Win count: 38 | Win rate: 0.281 | Time: 43.89 minutes\n",
      "Epoch: 122/14999 | Loss: 0.0009 | Episodes: 150 | Win count: 38 | Win rate: 0.250 | Time: 44.23 minutes\n",
      "Epoch: 123/14999 | Loss: 0.0010 | Episodes: 145 | Win count: 38 | Win rate: 0.250 | Time: 44.55 minutes\n",
      "Epoch: 124/14999 | Loss: 0.0006 | Episodes: 147 | Win count: 38 | Win rate: 0.219 | Time: 45.00 minutes\n",
      "Epoch: 125/14999 | Loss: 0.0007 | Episodes: 144 | Win count: 38 | Win rate: 0.188 | Time: 45.56 minutes\n",
      "Epoch: 126/14999 | Loss: 0.0008 | Episodes: 8 | Win count: 39 | Win rate: 0.188 | Time: 45.59 minutes\n",
      "Epoch: 127/14999 | Loss: 0.0006 | Episodes: 2 | Win count: 40 | Win rate: 0.219 | Time: 45.60 minutes\n",
      "Epoch: 128/14999 | Loss: 0.0012 | Episodes: 31 | Win count: 41 | Win rate: 0.250 | Time: 45.71 minutes\n",
      "Epoch: 129/14999 | Loss: 0.0011 | Episodes: 3 | Win count: 42 | Win rate: 0.281 | Time: 45.72 minutes\n",
      "Epoch: 130/14999 | Loss: 0.0012 | Episodes: 10 | Win count: 43 | Win rate: 0.312 | Time: 45.75 minutes\n",
      "Epoch: 131/14999 | Loss: 0.0034 | Episodes: 10 | Win count: 44 | Win rate: 0.344 | Time: 45.79 minutes\n",
      "Epoch: 132/14999 | Loss: 0.0018 | Episodes: 21 | Win count: 45 | Win rate: 0.375 | Time: 45.87 minutes\n",
      "Epoch: 133/14999 | Loss: 0.0005 | Episodes: 138 | Win count: 45 | Win rate: 0.375 | Time: 46.39 minutes\n",
      "Epoch: 134/14999 | Loss: 0.0002 | Episodes: 133 | Win count: 45 | Win rate: 0.375 | Time: 46.93 minutes\n",
      "Epoch: 135/14999 | Loss: 0.0001 | Episodes: 139 | Win count: 45 | Win rate: 0.375 | Time: 47.48 minutes\n",
      "Epoch: 136/14999 | Loss: 0.0000 | Episodes: 132 | Win count: 45 | Win rate: 0.375 | Time: 48.02 minutes\n",
      "Epoch: 137/14999 | Loss: 0.0000 | Episodes: 134 | Win count: 45 | Win rate: 0.375 | Time: 48.55 minutes\n",
      "Epoch: 138/14999 | Loss: 0.0000 | Episodes: 132 | Win count: 45 | Win rate: 0.375 | Time: 49.08 minutes\n",
      "Epoch: 139/14999 | Loss: 0.0001 | Episodes: 148 | Win count: 45 | Win rate: 0.375 | Time: 49.64 minutes\n",
      "Epoch: 140/14999 | Loss: 0.0007 | Episodes: 149 | Win count: 45 | Win rate: 0.375 | Time: 50.24 minutes\n",
      "Epoch: 141/14999 | Loss: 0.0009 | Episodes: 150 | Win count: 45 | Win rate: 0.375 | Time: 50.89 minutes\n",
      "Epoch: 142/14999 | Loss: 0.0004 | Episodes: 150 | Win count: 45 | Win rate: 0.375 | Time: 51.49 minutes\n",
      "Epoch: 143/14999 | Loss: 0.0017 | Episodes: 17 | Win count: 46 | Win rate: 0.406 | Time: 51.55 minutes\n",
      "Epoch: 144/14999 | Loss: 0.0009 | Episodes: 5 | Win count: 47 | Win rate: 0.438 | Time: 51.57 minutes\n",
      "Epoch: 145/14999 | Loss: 0.0014 | Episodes: 150 | Win count: 47 | Win rate: 0.406 | Time: 52.17 minutes\n",
      "Epoch: 146/14999 | Loss: 0.0010 | Episodes: 8 | Win count: 48 | Win rate: 0.406 | Time: 52.20 minutes\n",
      "Epoch: 147/14999 | Loss: 0.0005 | Episodes: 5 | Win count: 49 | Win rate: 0.406 | Time: 52.22 minutes\n",
      "Epoch: 148/14999 | Loss: 0.0008 | Episodes: 140 | Win count: 49 | Win rate: 0.406 | Time: 52.78 minutes\n",
      "Epoch: 149/14999 | Loss: 0.0005 | Episodes: 129 | Win count: 49 | Win rate: 0.406 | Time: 53.28 minutes\n",
      "Epoch: 150/14999 | Loss: 0.0002 | Episodes: 1 | Win count: 50 | Win rate: 0.406 | Time: 53.28 minutes\n",
      "Epoch: 151/14999 | Loss: 0.0004 | Episodes: 8 | Win count: 51 | Win rate: 0.438 | Time: 53.31 minutes\n",
      "Epoch: 152/14999 | Loss: 0.0010 | Episodes: 8 | Win count: 52 | Win rate: 0.469 | Time: 53.34 minutes\n",
      "Epoch: 153/14999 | Loss: 0.0003 | Episodes: 5 | Win count: 53 | Win rate: 0.469 | Time: 53.36 minutes\n",
      "Epoch: 154/14999 | Loss: 0.0004 | Episodes: 133 | Win count: 53 | Win rate: 0.469 | Time: 53.86 minutes\n",
      "Epoch: 155/14999 | Loss: 0.0002 | Episodes: 7 | Win count: 54 | Win rate: 0.500 | Time: 53.89 minutes\n",
      "Epoch: 156/14999 | Loss: 0.0001 | Episodes: 5 | Win count: 55 | Win rate: 0.531 | Time: 53.91 minutes\n",
      "Epoch: 157/14999 | Loss: 0.0003 | Episodes: 4 | Win count: 56 | Win rate: 0.562 | Time: 53.93 minutes\n",
      "Epoch: 158/14999 | Loss: 0.0001 | Episodes: 11 | Win count: 57 | Win rate: 0.562 | Time: 53.98 minutes\n",
      "Epoch: 159/14999 | Loss: 0.0000 | Episodes: 130 | Win count: 57 | Win rate: 0.531 | Time: 54.46 minutes\n"
     ]
    },
    {
     "name": "stdout",
     "output_type": "stream",
     "text": [
      "Epoch: 160/14999 | Loss: 0.0004 | Episodes: 137 | Win count: 57 | Win rate: 0.500 | Time: 54.94 minutes\n",
      "Epoch: 161/14999 | Loss: 0.0004 | Episodes: 137 | Win count: 57 | Win rate: 0.469 | Time: 55.26 minutes\n",
      "Epoch: 162/14999 | Loss: 0.0002 | Episodes: 9 | Win count: 58 | Win rate: 0.469 | Time: 55.28 minutes\n",
      "Epoch: 163/14999 | Loss: 0.0006 | Episodes: 140 | Win count: 58 | Win rate: 0.438 | Time: 55.57 minutes\n",
      "Epoch: 164/14999 | Loss: 0.0001 | Episodes: 1 | Win count: 59 | Win rate: 0.438 | Time: 55.58 minutes\n",
      "Epoch: 165/14999 | Loss: 0.0001 | Episodes: 138 | Win count: 59 | Win rate: 0.438 | Time: 55.86 minutes\n",
      "Epoch: 166/14999 | Loss: 0.0001 | Episodes: 144 | Win count: 59 | Win rate: 0.438 | Time: 56.15 minutes\n",
      "Epoch: 167/14999 | Loss: 0.0002 | Episodes: 6 | Win count: 60 | Win rate: 0.469 | Time: 56.16 minutes\n",
      "Epoch: 168/14999 | Loss: 0.0001 | Episodes: 135 | Win count: 60 | Win rate: 0.469 | Time: 56.41 minutes\n",
      "Epoch: 169/14999 | Loss: 0.0005 | Episodes: 5 | Win count: 61 | Win rate: 0.500 | Time: 56.42 minutes\n",
      "Epoch: 170/14999 | Loss: 0.0002 | Episodes: 13 | Win count: 62 | Win rate: 0.531 | Time: 56.45 minutes\n",
      "Epoch: 171/14999 | Loss: 0.0007 | Episodes: 139 | Win count: 62 | Win rate: 0.531 | Time: 56.72 minutes\n",
      "Epoch: 172/14999 | Loss: 0.0016 | Episodes: 150 | Win count: 62 | Win rate: 0.531 | Time: 57.04 minutes\n",
      "Epoch: 173/14999 | Loss: 0.0013 | Episodes: 148 | Win count: 62 | Win rate: 0.531 | Time: 57.35 minutes\n",
      "Epoch: 174/14999 | Loss: 0.0014 | Episodes: 54 | Win count: 63 | Win rate: 0.562 | Time: 57.46 minutes\n",
      "Epoch: 175/14999 | Loss: 0.0008 | Episodes: 134 | Win count: 63 | Win rate: 0.531 | Time: 57.76 minutes\n",
      "Epoch: 176/14999 | Loss: 0.0006 | Episodes: 20 | Win count: 64 | Win rate: 0.531 | Time: 57.84 minutes\n",
      "Epoch: 177/14999 | Loss: 0.0005 | Episodes: 12 | Win count: 65 | Win rate: 0.562 | Time: 57.88 minutes\n",
      "Epoch: 178/14999 | Loss: 0.0011 | Episodes: 2 | Win count: 66 | Win rate: 0.562 | Time: 57.89 minutes\n",
      "Epoch: 179/14999 | Loss: 0.0010 | Episodes: 46 | Win count: 67 | Win rate: 0.562 | Time: 58.05 minutes\n",
      "Epoch: 180/14999 | Loss: 0.0005 | Episodes: 139 | Win count: 67 | Win rate: 0.562 | Time: 58.39 minutes\n",
      "Epoch: 181/14999 | Loss: 0.0001 | Episodes: 134 | Win count: 67 | Win rate: 0.562 | Time: 58.74 minutes\n",
      "Epoch: 182/14999 | Loss: 0.0001 | Episodes: 15 | Win count: 68 | Win rate: 0.562 | Time: 58.79 minutes\n",
      "Epoch: 183/14999 | Loss: 0.0000 | Episodes: 50 | Win count: 69 | Win rate: 0.562 | Time: 58.97 minutes\n",
      "Epoch: 184/14999 | Loss: 0.0003 | Episodes: 8 | Win count: 70 | Win rate: 0.562 | Time: 59.00 minutes\n",
      "Epoch: 185/14999 | Loss: 0.0001 | Episodes: 133 | Win count: 70 | Win rate: 0.531 | Time: 59.34 minutes\n",
      "Epoch: 186/14999 | Loss: 0.0002 | Episodes: 7 | Win count: 71 | Win rate: 0.562 | Time: 59.36 minutes\n",
      "Epoch: 187/14999 | Loss: 0.0001 | Episodes: 13 | Win count: 72 | Win rate: 0.562 | Time: 59.39 minutes\n",
      "Epoch: 188/14999 | Loss: 0.0003 | Episodes: 48 | Win count: 73 | Win rate: 0.562 | Time: 59.54 minutes\n",
      "Epoch: 189/14999 | Loss: 0.0002 | Episodes: 6 | Win count: 74 | Win rate: 0.562 | Time: 59.55 minutes\n",
      "Epoch: 190/14999 | Loss: 0.0008 | Episodes: 6 | Win count: 75 | Win rate: 0.562 | Time: 59.58 minutes\n",
      "Epoch: 191/14999 | Loss: 0.0001 | Episodes: 11 | Win count: 76 | Win rate: 0.594 | Time: 59.62 minutes\n",
      "Epoch: 192/14999 | Loss: 0.0002 | Episodes: 18 | Win count: 77 | Win rate: 0.625 | Time: 59.68 minutes\n",
      "Epoch: 193/14999 | Loss: 0.0005 | Episodes: 139 | Win count: 77 | Win rate: 0.625 | Time: 60.06 minutes\n",
      "Epoch: 194/14999 | Loss: 0.0003 | Episodes: 20 | Win count: 78 | Win rate: 0.625 | Time: 60.12 minutes\n",
      "Epoch: 195/14999 | Loss: 0.0003 | Episodes: 10 | Win count: 79 | Win rate: 0.656 | Time: 60.15 minutes\n",
      "Epoch: 196/14999 | Loss: 0.0004 | Episodes: 133 | Win count: 79 | Win rate: 0.625 | Time: 60.63 minutes\n",
      "Epoch: 197/14999 | Loss: 0.0005 | Episodes: 6 | Win count: 80 | Win rate: 0.656 | Time: 60.66 minutes\n",
      "Epoch: 198/14999 | Loss: 0.0005 | Episodes: 12 | Win count: 81 | Win rate: 0.688 | Time: 60.71 minutes\n",
      "Epoch: 199/14999 | Loss: 0.0006 | Episodes: 4 | Win count: 82 | Win rate: 0.688 | Time: 60.72 minutes\n",
      "Epoch: 200/14999 | Loss: 0.0002 | Episodes: 34 | Win count: 83 | Win rate: 0.719 | Time: 60.86 minutes\n",
      "Epoch: 201/14999 | Loss: 0.0004 | Episodes: 9 | Win count: 84 | Win rate: 0.719 | Time: 60.90 minutes\n",
      "Epoch: 202/14999 | Loss: 0.0005 | Episodes: 10 | Win count: 85 | Win rate: 0.719 | Time: 60.94 minutes\n",
      "Epoch: 203/14999 | Loss: 0.0001 | Episodes: 10 | Win count: 86 | Win rate: 0.750 | Time: 60.97 minutes\n",
      "Epoch: 204/14999 | Loss: 0.0001 | Episodes: 24 | Win count: 87 | Win rate: 0.781 | Time: 61.06 minutes\n",
      "Epoch: 205/14999 | Loss: 0.0001 | Episodes: 15 | Win count: 88 | Win rate: 0.812 | Time: 61.11 minutes\n",
      "Epoch: 206/14999 | Loss: 0.0004 | Episodes: 14 | Win count: 89 | Win rate: 0.812 | Time: 61.17 minutes\n",
      "Epoch: 207/14999 | Loss: 0.0000 | Episodes: 22 | Win count: 90 | Win rate: 0.844 | Time: 61.24 minutes\n",
      "Epoch: 208/14999 | Loss: 0.0001 | Episodes: 10 | Win count: 91 | Win rate: 0.844 | Time: 61.27 minutes\n",
      "Epoch: 209/14999 | Loss: 0.0001 | Episodes: 7 | Win count: 92 | Win rate: 0.844 | Time: 61.29 minutes\n",
      "Epoch: 210/14999 | Loss: 0.0003 | Episodes: 27 | Win count: 93 | Win rate: 0.844 | Time: 61.39 minutes\n",
      "Epoch: 211/14999 | Loss: 0.0001 | Episodes: 17 | Win count: 94 | Win rate: 0.844 | Time: 61.44 minutes\n",
      "Epoch: 212/14999 | Loss: 0.0000 | Episodes: 11 | Win count: 95 | Win rate: 0.875 | Time: 61.47 minutes\n",
      "Epoch: 213/14999 | Loss: 0.0003 | Episodes: 28 | Win count: 96 | Win rate: 0.906 | Time: 61.56 minutes\n",
      "Epoch: 214/14999 | Loss: 0.0002 | Episodes: 20 | Win count: 97 | Win rate: 0.906 | Time: 61.63 minutes\n",
      "Epoch: 215/14999 | Loss: 0.0000 | Episodes: 5 | Win count: 98 | Win rate: 0.906 | Time: 61.65 minutes\n",
      "Epoch: 216/14999 | Loss: 0.0000 | Episodes: 19 | Win count: 99 | Win rate: 0.906 | Time: 61.72 minutes\n",
      "Epoch: 217/14999 | Loss: 0.0000 | Episodes: 129 | Win count: 100 | Win rate: 0.938 | Time: 62.14 minutes\n",
      "Epoch: 218/14999 | Loss: 0.0000 | Episodes: 14 | Win count: 101 | Win rate: 0.938 | Time: 62.18 minutes\n",
      "Epoch: 219/14999 | Loss: 0.0001 | Episodes: 24 | Win count: 102 | Win rate: 0.938 | Time: 62.25 minutes\n",
      "Epoch: 220/14999 | Loss: 0.0000 | Episodes: 30 | Win count: 103 | Win rate: 0.938 | Time: 62.36 minutes\n",
      "Epoch: 221/14999 | Loss: 0.0000 | Episodes: 2 | Win count: 104 | Win rate: 0.938 | Time: 62.36 minutes\n",
      "Epoch: 222/14999 | Loss: 0.0000 | Episodes: 27 | Win count: 105 | Win rate: 0.938 | Time: 62.45 minutes\n",
      "Epoch: 223/14999 | Loss: 0.0003 | Episodes: 28 | Win count: 106 | Win rate: 0.938 | Time: 62.55 minutes\n",
      "Epoch: 224/14999 | Loss: 0.0001 | Episodes: 7 | Win count: 107 | Win rate: 0.938 | Time: 62.57 minutes\n",
      "Epoch: 225/14999 | Loss: 0.0003 | Episodes: 23 | Win count: 108 | Win rate: 0.969 | Time: 62.65 minutes\n",
      "Epoch: 226/14999 | Loss: 0.0000 | Episodes: 7 | Win count: 109 | Win rate: 0.969 | Time: 62.68 minutes\n",
      "Epoch: 227/14999 | Loss: 0.0000 | Episodes: 11 | Win count: 110 | Win rate: 0.969 | Time: 62.71 minutes\n",
      "Epoch: 228/14999 | Loss: 0.0000 | Episodes: 21 | Win count: 111 | Win rate: 1.000 | Time: 62.78 minutes\n",
      "Reached 100% win rate at epoch: 228\n",
      "Training completed in 62.80 minutes\n"
     ]
    },
    {
     "data": {
      "text/plain": [
       "'62.78 minutes'"
      ]
     },
     "execution_count": 18,
     "metadata": {},
     "output_type": "execute_result"
    }
   ],
   "source": [
    "model = build_model(maze)\n",
    "qtrain(model, maze, epochs=1000, max_memory=8*maze.size, data_size=32)"
   ]
  },
  {
   "cell_type": "markdown",
   "metadata": {},
   "source": [
    "This cell will check to see if the model passes the completion check. Note: This could take several minutes."
   ]
  },
  {
   "cell_type": "code",
   "execution_count": 19,
   "metadata": {},
   "outputs": [
    {
     "data": {
      "text/plain": [
       "<matplotlib.image.AxesImage at 0x1f5d78bfb08>"
      ]
     },
     "execution_count": 19,
     "metadata": {},
     "output_type": "execute_result"
    },
    {
     "data": {
      "image/png": "[encoded data removed]",
      "text/plain": [
       "<Figure size 432x288 with 1 Axes>"
      ]
     },
     "metadata": {
      "needs_background": "light"
     },
     "output_type": "display_data"
    }
   ],
   "source": [
    "completion_check(model, qmaze)\n",
    "show(qmaze)"
   ]
  },
  {
   "cell_type": "markdown",
   "metadata": {},
   "source": [
    "This cell will test your model for one game. It will start the pirate at the top-left corner and run play_game. The agent should find a path from the starting position to the target (treasure). The treasure is located in the bottom-right corner."
   ]
  },
  {
   "cell_type": "code",
   "execution_count": 20,
   "metadata": {},
   "outputs": [
    {
     "data": {
      "text/plain": [
       "<matplotlib.image.AxesImage at 0x1f5d286fac8>"
      ]
     },
     "execution_count": 20,
     "metadata": {},
     "output_type": "execute_result"
    },
    {
     "data": {
      "image/png": "[encoded data removed]",
      "text/plain": [
       "<Figure size 432x288 with 1 Axes>"
      ]
     },
     "metadata": {
      "needs_background": "light"
     },
     "output_type": "display_data"
    }
   ],
   "source": [
    "pirate_start = (0, 0)\n",
    "play_game(model, qmaze, pirate_start)\n",
    "show(qmaze)"
   ]
  },
  {
   "cell_type": "markdown",
   "metadata": {},
   "source": [
    "## Save and Submit Your Work\n",
    "After you have finished creating the code for your notebook, save your work. Make sure that your notebook contains your name in the filename (e.g. Doe_Jane_ProjectTwo.ipynb). This will help your instructor access and grade your work easily. Download a copy of your IPYNB file and submit it to Brightspace. Refer to the Jupyter Notebook in Apporto Tutorial if you need help with these tasks."
   ]
  },
  {
   "cell_type": "code",
   "execution_count": null,
   "metadata": {},
   "outputs": [],
   "source": []
  }
 ],
 "metadata": {
  "kernelspec": {
   "display_name": "Python 3",
   "language": "python",
   "name": "python3"
  },
  "language_info": {
   "codemirror_mode": {
    "name": "ipython",
    "version": 3
   },
   "file_extension": ".py",
   "mimetype": "text/x-python",
   "name": "python",
   "nbconvert_exporter": "python",
   "pygments_lexer": "ipython3",
   "version": "3.7.4"
  }
 },
 "nbformat": 4,
 "nbformat_minor": 2
}
